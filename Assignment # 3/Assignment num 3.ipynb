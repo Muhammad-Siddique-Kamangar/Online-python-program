{
 "cells": [
  {
   "cell_type": "code",
   "execution_count": 1,
   "id": "9d19159f",
   "metadata": {},
   "outputs": [
    {
     "name": "stdout",
     "output_type": "stream",
     "text": [
      " \n",
      "        Twinkle, twinkle little star,\n",
      "              How I wonder what you are!\n",
      "                      Up above the world so high,\n",
      "                      Like a diamond in the sky.\n",
      "        Twinkle, twinkle little star,\n",
      "              How I wonder what you are \n",
      "    \n"
     ]
    }
   ],
   "source": [
    "# Question 1: Printing, twinkle twinkle little star poem.\n",
    "\n",
    "print(''' \n",
    "        Twinkle, twinkle little star,\n",
    "              How I wonder what you are!\n",
    "                      Up above the world so high,\n",
    "                      Like a diamond in the sky.\n",
    "        Twinkle, twinkle little star,\n",
    "              How I wonder what you are \n",
    "    ''')"
   ]
  },
  {
   "cell_type": "code",
   "execution_count": 2,
   "id": "53863ac5",
   "metadata": {},
   "outputs": [
    {
     "name": "stdout",
     "output_type": "stream",
     "text": [
      "3.8.8\n"
     ]
    }
   ],
   "source": [
    "# Question 2: Python program to know python version.\n",
    "\n",
    "from platform import python_version\n",
    "print(python_version())"
   ]
  },
  {
   "cell_type": "code",
   "execution_count": 3,
   "id": "45d91662",
   "metadata": {},
   "outputs": [
    {
     "name": "stdout",
     "output_type": "stream",
     "text": [
      "2021-10-24 17:28:18\n"
     ]
    }
   ],
   "source": [
    "# Question 3: Current date and time\n",
    "\n",
    "from datetime import datetime\n",
    "now = datetime.now()\n",
    "print (now.strftime(\"%Y-%m-%d %H:%M:%S\"))"
   ]
  },
  {
   "cell_type": "code",
   "execution_count": 4,
   "id": "ed790021",
   "metadata": {},
   "outputs": [
    {
     "name": "stdout",
     "output_type": "stream",
     "text": [
      "Input the radius of the circle : 2\n",
      "The area of the circle with radius 2.0 is: 12.566370614359172\n"
     ]
    }
   ],
   "source": [
    "# Question 4: Radius of a circle \n",
    "\n",
    "from math import pi\n",
    "r = float(input (\"Input the radius of the circle : \"))\n",
    "print (\"The area of the circle with radius \" + str(r) + \" is: \" + str(pi * r**2))"
   ]
  },
  {
   "cell_type": "code",
   "execution_count": 10,
   "id": "1a4977e2",
   "metadata": {},
   "outputs": [
    {
     "name": "stdout",
     "output_type": "stream",
     "text": [
      "first name: siddique\n",
      " last name: kamangar\n",
      "kamangar siddique\n"
     ]
    }
   ],
   "source": [
    "# Question 5: First and last name of User.\n",
    "\n",
    "first_name = input(\"first name: \");\n",
    "last_name = input(\" last name: \");\n",
    "\n",
    "print(last_name + \" \" + first_name)"
   ]
  },
  {
   "cell_type": "code",
   "execution_count": 18,
   "id": "67e1ea33",
   "metadata": {},
   "outputs": [
    {
     "name": "stdout",
     "output_type": "stream",
     "text": [
      "Input your first number: 4\n",
      "Input your second number5\n",
      "Addition of these two numbers is 9\n"
     ]
    }
   ],
   "source": [
    "# Question 6: Two inputs from user and print them addition.\n",
    "\n",
    "first_num = int(input(\"Input your first number: \"));\n",
    "second_num = int(input(\"Input your second number\"));\n",
    "total = first_num + second_num\n",
    "print(\"Addition of these two numbers is\", total)"
   ]
  },
  {
   "cell_type": "code",
   "execution_count": 33,
   "id": "791614c4",
   "metadata": {},
   "outputs": [
    {
     "name": "stdout",
     "output_type": "stream",
     "text": [
      "Add Maths marks: 50\n",
      "Add Chemistry marks: 60\n",
      "Add Biology marks: 40\n",
      "Add Physics marks: 46\n",
      "Add English marks: 64\n",
      "C\n"
     ]
    }
   ],
   "source": [
    "# Question 7: Marksheet\n",
    "\n",
    "math = int(input(\"Add Maths marks: \"))\n",
    "chem = int(input(\"Add Chemistry marks: \"))\n",
    "bio = int(input(\"Add Biology marks: \"))\n",
    "phy = int(input(\"Add Physics marks: \"))\n",
    "eng = int(input(\"Add English marks: \"))\n",
    "total = 500\n",
    "percent = ((math + chem + bio + phy + eng)/total) * 100\n",
    "\n",
    "if percent < 100 and percent >= 90:\n",
    "    print(\"A+\");\n",
    "elif percent < 90 and percent >= 80:\n",
    "    print(\"A\");\n",
    "elif percent < 80 and percent >= 70:\n",
    "    print(\"B+\");\n",
    "elif percent < 70 and percent >= 60:\n",
    "    print (\"C+\");\n",
    "elif percent < 60 and percent >= 50:\n",
    "    print (\"C\");\n",
    "elif percent < 50 and percent >= 40:\n",
    "    print (\"D\");\n",
    "elif percent < 40 and percent >= 33:\n",
    "    print (\"E\");\n",
    "elif percent < 0 and percent >= 100:\n",
    "    print(\"Wrong Value\")\n",
    "else:\n",
    "    print(\"Fail!\")"
   ]
  },
  {
   "cell_type": "code",
   "execution_count": null,
   "id": "c7a2e421",
   "metadata": {},
   "outputs": [],
   "source": []
  }
 ],
 "metadata": {
  "kernelspec": {
   "display_name": "Python 3",
   "language": "python",
   "name": "python3"
  },
  "language_info": {
   "codemirror_mode": {
    "name": "ipython",
    "version": 3
   },
   "file_extension": ".py",
   "mimetype": "text/x-python",
   "name": "python",
   "nbconvert_exporter": "python",
   "pygments_lexer": "ipython3",
   "version": "3.8.8"
  }
 },
 "nbformat": 4,
 "nbformat_minor": 5
}
